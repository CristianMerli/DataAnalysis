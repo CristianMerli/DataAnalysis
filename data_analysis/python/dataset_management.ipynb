{
 "cells": [
  {
   "cell_type": "code",
   "execution_count": 43,
   "metadata": {},
   "outputs": [],
   "source": [
    "# Header\n",
    "\n",
    "__author__ = \"Cristian Merli\"\n",
    "__copyright__ = \"Copyright 2021, The Cogent Project\"\n",
    "__credits__ = [\"Cristian Merli\", \"Ing. Maurizio Grigiante\"]\n",
    "__license__ = \"GPL\"\n",
    "__version__ = \"0.0.1\"\n",
    "__maintainer__ = \"Cristian Merli\"\n",
    "__email__ = \"cristian.merli@studenti.unitn.it\"\n",
    "__status__ = \"Draft\""
   ]
  },
  {
   "cell_type": "code",
   "execution_count": 44,
   "metadata": {},
   "outputs": [],
   "source": [
    "# Useful links:\n",
    "\n",
    "# https://code.visualstudio.com/docs/datascience/data-science-tutorial"
   ]
  },
  {
   "cell_type": "code",
   "execution_count": 87,
   "metadata": {},
   "outputs": [],
   "source": [
    "# Lib import\n",
    "\n",
    "import fileinput as fi      # File management lib\n",
    "import pandas as pd         # Data-analysis panda lib\n",
    "import numpy as np          # Data-analysis numpy lib\n",
    "import seaborn as sns\n",
    "import matplotlib as ml\n",
    "import matplotlib.pyplot as plt"
   ]
  },
  {
   "cell_type": "code",
   "execution_count": 46,
   "metadata": {},
   "outputs": [],
   "source": [
    "# Data-acquisition vars\n",
    "\n",
    "data_filepath = '../dataset/scambiatore26112021_5.dat'              # Data filepath\n",
    "mod_data_filepath = '../dataset/scambiatore26112021_5_mod.dat'      # Modified data filepath\n",
    "other_oper_old_lbl = 'Altra operazione'                             # -\n",
    "other_oper_lbl = 'Altra-operazione'                                 # -\n",
    "cocurrent_flow_lbl = 'Equicorrente'                                 # -\n",
    "countercurrent_flow_lbl = 'Controcorrente'                          # -"
   ]
  },
  {
   "cell_type": "code",
   "execution_count": 47,
   "metadata": {},
   "outputs": [],
   "source": [
    "# Read in the file\n",
    "with open(data_filepath, 'r') as file:\n",
    "  data_txt = file.read()\n",
    "\n",
    "# Replace the target string\n",
    "data_txt = data_txt.replace(other_oper_old_lbl, other_oper_lbl)\n",
    "\n",
    "# Write the file out again\n",
    "with open(mod_data_filepath, 'w') as file:\n",
    "  file.write(data_txt)"
   ]
  },
  {
   "cell_type": "code",
   "execution_count": 158,
   "metadata": {},
   "outputs": [
    {
     "name": "stdout",
     "output_type": "stream",
     "text": [
      "     % Data originally in file:  s:\\Scambiatore\\Data\\scambiatore26112021_5.ds\n",
      "0     % Time(s)\\tF1(l/h)\\tF2(l/h)\\tT1(degC)\\tT2(degC...                      \n",
      "1     0\\t0\\t628\\t26.09\\t52.19\\t26.83\\t51.79\\tAltra-o...                      \n",
      "2     1\\t0\\t588\\t26.09\\t52.09\\t26.83\\t51.68\\tAltra-o...                      \n",
      "3     2\\t0\\t588\\t26.09\\t52.09\\t26.83\\t51.79\\tAltra-o...                      \n",
      "4     3\\t0\\t567\\t26.09\\t52.09\\t26.83\\t51.79\\tAltra-o...                      \n",
      "...                                                 ...                      \n",
      "1193  1301\\t166\\t594\\t15.45\\t51.34\\t33.48\\t45.47\\tEq...                      \n",
      "1194  1303\\t166\\t559\\t15.45\\t51.34\\t33.37\\t45.47\\tEq...                      \n",
      "1195  1304\\t166\\t469\\t15.45\\t51.34\\t33.37\\t45.37\\tEq...                      \n",
      "1196  1305\\t166\\t541\\t15.45\\t51.34\\t33.37\\t45.37\\tEq...                      \n",
      "1197  1306\\t166\\t563\\t15.55\\t51.34\\t33.37\\t45.37\\tEq...                      \n",
      "\n",
      "[1198 rows x 1 columns]\n"
     ]
    }
   ],
   "source": [
    "#heatexchanger_data = np.genfromtxt(mod_data_filepath, skip_header=1, skip_footer=0, names=True, dtype=None, delimiter='\\n', encoding=None)\n",
    "heatexchanger_data = pd.read_csv(mod_data_filepath, sep='\\n')\n",
    "print(heatexchanger_data)"
   ]
  }
 ],
 "metadata": {
  "interpreter": {
   "hash": "916dbcbb3f70747c44a77c7bcd40155683ae19c65e1c03b4aa3499c5328201f1"
  },
  "kernelspec": {
   "display_name": "Python 3.8.10 64-bit",
   "language": "python",
   "name": "python3"
  },
  "language_info": {
   "codemirror_mode": {
    "name": "ipython",
    "version": 3
   },
   "file_extension": ".py",
   "mimetype": "text/x-python",
   "name": "python",
   "nbconvert_exporter": "python",
   "pygments_lexer": "ipython3",
   "version": "3.8.12"
  },
  "orig_nbformat": 4
 },
 "nbformat": 4,
 "nbformat_minor": 2
}
