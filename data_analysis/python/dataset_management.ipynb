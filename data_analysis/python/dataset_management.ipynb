{
 "cells": [
  {
   "cell_type": "markdown",
   "metadata": {},
   "source": [
    "# Heat-exchanger data analysis and engineering calcs (Cristian Merli, UniTn id: 211384)"
   ]
  },
  {
   "cell_type": "markdown",
   "metadata": {},
   "source": [
    "## Environment setup and parameters"
   ]
  },
  {
   "cell_type": "markdown",
   "metadata": {},
   "source": [
    "### - General software info"
   ]
  },
  {
   "cell_type": "markdown",
   "metadata": {},
   "source": [
    "* Useful links:"
   ]
  },
  {
   "cell_type": "markdown",
   "metadata": {},
   "source": [
    "https://code.visualstudio.com/docs/datascience/data-science-tutorial"
   ]
  },
  {
   "cell_type": "markdown",
   "metadata": {},
   "source": [
    "* SW header:"
   ]
  },
  {
   "cell_type": "code",
   "execution_count": 47,
   "metadata": {},
   "outputs": [],
   "source": [
    "__author__ = \"Cristian Merli\"\n",
    "__copyright__ = \"Copyright 2021, The Cogent Project\"\n",
    "__credits__ = [\"Cristian Merli\", \"Ing. Maurizio Grigiante\"]\n",
    "__license__ = \"GPL\"\n",
    "__version__ = \"0.0.1\"\n",
    "__maintainer__ = \"Cristian Merli\"\n",
    "__email__ = \"cristian.merli@studenti.unitn.it\"\n",
    "__status__ = \"Draft\""
   ]
  },
  {
   "cell_type": "markdown",
   "metadata": {},
   "source": [
    "### - Clear envirnoment"
   ]
  },
  {
   "cell_type": "markdown",
   "metadata": {},
   "source": [
    "* Clear JupyterNotebook environment and set python files auto-reload"
   ]
  },
  {
   "cell_type": "code",
   "execution_count": 48,
   "metadata": {},
   "outputs": [
    {
     "name": "stdout",
     "output_type": "stream",
     "text": [
      "The autoreload extension is already loaded. To reload it, use:\n",
      "  %reload_ext autoreload\n"
     ]
    }
   ],
   "source": [
    "%reset -f\n",
    "%load_ext autoreload\n",
    "%autoreload 2"
   ]
  },
  {
   "cell_type": "markdown",
   "metadata": {},
   "source": [
    "### - Libraries import"
   ]
  },
  {
   "cell_type": "markdown",
   "metadata": {},
   "source": [
    "* Import project personal libraries"
   ]
  },
  {
   "cell_type": "code",
   "execution_count": 49,
   "metadata": {},
   "outputs": [],
   "source": [
    "from libs import plotting_lib as pl           # Plotting lib\n",
    "from libs import data_analysis_lib as da      # Data analysis lib\n",
    "from libs import thermophys_vars_lib as tv    # Thermophysics variables lib\n",
    "from libs import eng_calcs_lib as ec          # Engineering calcs lib"
   ]
  },
  {
   "cell_type": "markdown",
   "metadata": {},
   "source": [
    "### - Load personalized plotting style"
   ]
  },
  {
   "cell_type": "markdown",
   "metadata": {},
   "source": [
    "* Load personalized plotting style calling dedicated initialization function"
   ]
  },
  {
   "cell_type": "code",
   "execution_count": 50,
   "metadata": {},
   "outputs": [
    {
     "name": "stderr",
     "output_type": "stream",
     "text": [
      "No artists with labels found to put in legend.  Note that artists whose label start with an underscore are ignored when legend() is called with no argument.\n"
     ]
    }
   ],
   "source": [
    "pl.init_plt_style()   # Function call to load and init personalized plotting style"
   ]
  },
  {
   "cell_type": "markdown",
   "metadata": {},
   "source": [
    "### - Flags and parameters"
   ]
  },
  {
   "cell_type": "markdown",
   "metadata": {},
   "source": [
    "* Plotting flags"
   ]
  },
  {
   "cell_type": "code",
   "execution_count": 51,
   "metadata": {},
   "outputs": [],
   "source": [
    "measures_plt_flg = False           # Measures plotting flag (set to True in order to plot)\n",
    "sc_win_plt_flg = False             # Steady-conditions data windows plotting flag (set to True in order to plot)\n",
    "thermophys_vars_plt_flg = False    # Thermophysics variables plotting flag (set to True in order to plot)"
   ]
  },
  {
   "cell_type": "markdown",
   "metadata": {},
   "source": [
    "* Debug flags"
   ]
  },
  {
   "cell_type": "code",
   "execution_count": 70,
   "metadata": {},
   "outputs": [],
   "source": [
    "measures_dbg_flg = False     # Measures debug flag (set to True in order to plot)\n",
    "sc_win_dbg_flg = False       # Find steady-conditions data-windows debug flag (set to True in order to consult output)\n",
    "mean_vals_dbg_flg = False    # Measures mean vals debug flag (set to True in order to consult output)\n",
    "he_dbg_flg = False           # Heat-exchanger properties debug flag (set to True in order to consult output)\n",
    "## LAST ##\n",
    "meas_calcs_dbg_flg = True   # Measures and calcs results debug flag (set to True in order to consult output)"
   ]
  },
  {
   "cell_type": "markdown",
   "metadata": {},
   "source": [
    "* Parameters"
   ]
  },
  {
   "cell_type": "code",
   "execution_count": 53,
   "metadata": {},
   "outputs": [],
   "source": [
    "sc_win_span = 90    # Steady-conditions data-windows span (in samples)"
   ]
  },
  {
   "cell_type": "markdown",
   "metadata": {},
   "source": [
    "## Heat-exchanger data analysis"
   ]
  },
  {
   "cell_type": "markdown",
   "metadata": {},
   "source": [
    "### - Data import, extraction and filtering"
   ]
  },
  {
   "cell_type": "markdown",
   "metadata": {},
   "source": [
    "* Import dataset's data from formatted (.csv) file, creating a new 'DataFrame' variable --> Source: Lab-data taken the 26th Nov 2021, group number 5 (original file name: scambiatore26112021_5.dat)"
   ]
  },
  {
   "cell_type": "code",
   "execution_count": 54,
   "metadata": {},
   "outputs": [],
   "source": [
    "he_data = da.load_dataset_data()    # Function call to format dataset and import data from (.csv) file, creating a new panda DataFrame variable"
   ]
  },
  {
   "cell_type": "markdown",
   "metadata": {},
   "source": [
    "* Find different measures data and different measures delimiter-indexes in dataset 'DataFrame'"
   ]
  },
  {
   "cell_type": "code",
   "execution_count": 55,
   "metadata": {},
   "outputs": [],
   "source": [
    "he_measures_data, delim_idxs = da.find_plt_measures(he_data, measures_plt_flg, measures_dbg_flg)    # Function call to find and plot temperatures/volume flow rates, taken during LabView data-acquisition on heat-exchanger"
   ]
  },
  {
   "cell_type": "markdown",
   "metadata": {},
   "source": [
    "* Create data-windows list with optimal steady-conditions for each measure (data-windows span in samples, defined in parameters section)"
   ]
  },
  {
   "cell_type": "code",
   "execution_count": 56,
   "metadata": {},
   "outputs": [],
   "source": [
    "sc_windows = da.find_plt_stdy_cond_win(he_measures_data, sc_win_span, sc_win_plt_flg, sc_win_dbg_flg)   # Function call to find and plot steady-conditions data windows"
   ]
  },
  {
   "cell_type": "markdown",
   "metadata": {},
   "source": [
    "### - Measured variables definition and measures objects list creation"
   ]
  },
  {
   "cell_type": "markdown",
   "metadata": {},
   "source": [
    "* Determine measured variables by calculating mean value in optimal steady-conditions data-windows and define measures list, to contain each measure's calculated/measured data"
   ]
  },
  {
   "cell_type": "code",
   "execution_count": 57,
   "metadata": {},
   "outputs": [],
   "source": [
    "measures = da.def_meas_vars(sc_windows, mean_vals_dbg_flg)    # Function call to determine measured data and define measures data-structures list"
   ]
  },
  {
   "cell_type": "markdown",
   "metadata": {},
   "source": [
    "## Thermophysics variables"
   ]
  },
  {
   "cell_type": "markdown",
   "metadata": {},
   "source": [
    "### - Data import"
   ]
  },
  {
   "cell_type": "markdown",
   "metadata": {},
   "source": [
    "* Import thermophysics variables data from (.csv) table files, creating 'DataFrames' variables --> Source: moodle-pdf (original file name: Proprietà termofisiche aria e acqua.pdf) and http://www.inductor-jmag.ru/files/content/a129160.pdf - pdf page 28 / page 21 - Table 4"
   ]
  },
  {
   "cell_type": "code",
   "execution_count": 58,
   "metadata": {},
   "outputs": [],
   "source": [
    "air_atmp, water, aisi_316 = tv.load_thermophys_vars_data()    # Function call to load thermophysics vars from (.csv) table files, creating new pandas DataFrames variables"
   ]
  },
  {
   "cell_type": "markdown",
   "metadata": {},
   "source": [
    "### - Air's thermophysics variables polynomial approximation (at atm pressure) "
   ]
  },
  {
   "cell_type": "markdown",
   "metadata": {},
   "source": [
    "* Function call to apply air's thermophysics variables polynomial approximation and plotting vs temperature (at atmospheric pressure)"
   ]
  },
  {
   "cell_type": "code",
   "execution_count": 59,
   "metadata": {},
   "outputs": [],
   "source": [
    "f_air_atmp_rho, f_air_atmp_cp, f_air_atmp_lambda, f_air_atmp_ni, f_air_atmp_beta, f_air_atmp_pr = tv.poly_approx_plot_air_atmp_thermophys_vars(air_atmp, thermophys_vars_plt_flg)   # Function call"
   ]
  },
  {
   "cell_type": "markdown",
   "metadata": {},
   "source": [
    "### - Water's thermophysics variables polynomial approximation "
   ]
  },
  {
   "cell_type": "markdown",
   "metadata": {},
   "source": [
    "* Function call to apply water's thermophysics variables polynomial approximation and plotting vs temperature"
   ]
  },
  {
   "cell_type": "code",
   "execution_count": 60,
   "metadata": {},
   "outputs": [],
   "source": [
    "f_water_rho, f_water_cp, f_water_lambda, f_water_ni, f_water_beta, f_water_pr = tv.poly_approx_plot_water_thermophys_vars(water, thermophys_vars_plt_flg)   # Function call"
   ]
  },
  {
   "cell_type": "markdown",
   "metadata": {},
   "source": [
    "### - AISI-316-stainless-steel's thermophysics variables polynomial approximation"
   ]
  },
  {
   "cell_type": "markdown",
   "metadata": {},
   "source": [
    "* Function call to apply AISI-316-stainless-steel's thermophysics variables polynomial approximation and plotting vs temperature"
   ]
  },
  {
   "cell_type": "code",
   "execution_count": 61,
   "metadata": {},
   "outputs": [],
   "source": [
    "f_aisi_316_lambda = tv.poly_approx_plot_aisi_316_thermophys_vars(aisi_316, thermophys_vars_plt_flg)   # Function call"
   ]
  },
  {
   "cell_type": "markdown",
   "metadata": {},
   "source": [
    "## Engineering calcs"
   ]
  },
  {
   "cell_type": "markdown",
   "metadata": {},
   "source": [
    "### - Heat-exchanger object initialization"
   ]
  },
  {
   "cell_type": "markdown",
   "metadata": {},
   "source": [
    "* Initialize heat-exchanger with defined/calculated geometrical properties"
   ]
  },
  {
   "cell_type": "code",
   "execution_count": 62,
   "metadata": {},
   "outputs": [],
   "source": [
    "he = ec.He()                # Heat-exchanger object instance creation\n",
    "he.print_info(he_dbg_flg)   # Print heat-exchanger info (if debug flag is enabled) by callin' the print-info method of the class"
   ]
  },
  {
   "cell_type": "markdown",
   "metadata": {},
   "source": [
    "### - Experimental data conversions and pre-calcs operations"
   ]
  },
  {
   "cell_type": "markdown",
   "metadata": {},
   "source": [
    "* Volume flow rates [l/h] conversion into mass flow rates [kg/s] using fluids density value at inlet fluid temperature"
   ]
  },
  {
   "cell_type": "code",
   "execution_count": 63,
   "metadata": {},
   "outputs": [],
   "source": [
    "for meas in measures:                                                           # Measures scrollin' cycle\n",
    "  meas.f1 = ec.vol_flow_rate_to_mass_flow_rate(meas.f1, f_water_rho(meas.t1))   # Measure cold fluid vol flow rate [l/h] conv into mass flow rate [kg/s]\n",
    "  meas.f2 = ec.vol_flow_rate_to_mass_flow_rate(meas.f2, f_water_rho(meas.t2))   # Measure hot fluid vol flow rate [l/h] conv into mass flow rate [kg/s]"
   ]
  },
  {
   "cell_type": "markdown",
   "metadata": {},
   "source": [
    "* Average fluid-temperatures calculation"
   ]
  },
  {
   "cell_type": "code",
   "execution_count": 64,
   "metadata": {},
   "outputs": [],
   "source": [
    "for meas in measures:                                 # Measures scrollin' cycle\n",
    "  meas.avg_cold_fl_temp = ec.avg(meas.t1, meas.t3)    # Measure avg cold fluid temp calc\n",
    "  meas.avg_hot_fl_temp = ec.avg(meas.t2, meas.t4)     # Measure avg hot fluid temp calc"
   ]
  },
  {
   "cell_type": "markdown",
   "metadata": {},
   "source": [
    "* Cold and hot fluids delta temperatures calculations"
   ]
  },
  {
   "cell_type": "code",
   "execution_count": 65,
   "metadata": {},
   "outputs": [],
   "source": [
    "for meas in measures:                         # Measures scrollin' cycle\n",
    "  meas.cold_fl_delta_temp = meas.t3-meas.t1   # Measure cold fluid delta-temp calc\n",
    "  meas.hot_fl_delta_temp = meas.t4-meas.t2    # Measure hot fluid delta-temp calc"
   ]
  },
  {
   "cell_type": "markdown",
   "metadata": {},
   "source": [
    "* Log-mean temperature difference (LMTDs) calculations"
   ]
  },
  {
   "cell_type": "code",
   "execution_count": 66,
   "metadata": {},
   "outputs": [],
   "source": [
    "for meas in measures:                                     # Measures scrollin' cycle\n",
    "  meas.lmtd = ec.lmtd(meas.t2-meas.t1, meas.t4-meas.t3)   # Measure log-mean temperature difference (LMTD)"
   ]
  },
  {
   "cell_type": "markdown",
   "metadata": {},
   "source": [
    "### - Thermal power exchange and loss"
   ]
  },
  {
   "cell_type": "markdown",
   "metadata": {},
   "source": [
    "* Thermal power exchanged by fluids [kW] and thermal power losses [kW], calculated using Cp at average fluid temperature"
   ]
  },
  {
   "cell_type": "code",
   "execution_count": 67,
   "metadata": {},
   "outputs": [],
   "source": [
    "for meas in measures:                                                                                         # Measures scrollin' cycle\n",
    "  meas.cold_fl_tr_heat = ec.therm_pow(meas.f1, f_water_cp(meas.avg_cold_fl_temp), meas.cold_fl_delta_temp)    # Measure cold fluid transferred heat [kW]\n",
    "  meas.hot_fl_tr_heat = ec.therm_pow(meas.f2, f_water_cp(meas.avg_hot_fl_temp), meas.hot_fl_delta_temp)       # Measure hot fluid transferred heat [kW]\n",
    "  meas.heat_loss = meas.hot_fl_tr_heat+meas.cold_fl_tr_heat                                                   # Measure heat losses [kW]"
   ]
  },
  {
   "cell_type": "markdown",
   "metadata": {},
   "source": [
    "### - Global heat transfer coefficients (global HTCs)"
   ]
  },
  {
   "cell_type": "markdown",
   "metadata": {},
   "source": [
    "* External global heat transfer coefficients (external global HTCs) calculation using:  Q=U*A*Delta(T)ml  -->  U=Q/(a*Delta(T)ml)"
   ]
  },
  {
   "cell_type": "code",
   "execution_count": 68,
   "metadata": {},
   "outputs": [],
   "source": [
    "for meas in measures:                                                                       # Measures scrollin' cycle\n",
    "  meas.glob_htc = ec.glob_htc_coeff(meas.hot_fl_tr_heat, he.steel_pipes_es_m2, meas.lmtd)   # Measure global heat transfer coefficient (global HTC) [kW/(m^2*K)]"
   ]
  },
  {
   "cell_type": "markdown",
   "metadata": {},
   "source": [
    "### - Effectiveness-NTU method"
   ]
  },
  {
   "cell_type": "markdown",
   "metadata": {},
   "source": [
    "* Effectiveness calculation"
   ]
  },
  {
   "cell_type": "code",
   "execution_count": null,
   "metadata": {},
   "outputs": [],
   "source": []
  },
  {
   "cell_type": "markdown",
   "metadata": {},
   "source": [
    "### - Measures and calcs results ## LAST ##"
   ]
  },
  {
   "cell_type": "markdown",
   "metadata": {},
   "source": [
    "* Print measures calculations results"
   ]
  },
  {
   "cell_type": "code",
   "execution_count": 71,
   "metadata": {},
   "outputs": [
    {
     "name": "stdout",
     "output_type": "stream",
     "text": [
      "\n",
      "--> Cocurrent measure 1 measure calculations results:\n",
      "- Cold fluid mass flow rate: 0.1498469840803731 [kg/s]\n",
      "- Hot fluid mass flow rate: 0.15429849930385225 [kg/s]\n",
      "- Cold fluid inlet temperature: 15.254444444444452 [°C]\n",
      "- Hot fluid inlet temperature: 51.24088888888886 [°C]\n",
      "- Cold fluid outlet temperature: 24.349777777777817 [°C]\n",
      "- Hot fluid outlet temperature: 41.90299999999992 [°C]\n",
      "- Average cold fluid temperature: 19.802111111111135 [°C]\n",
      "- Average hot fluid temperature: 46.57194444444439 [°C]\n",
      "- Cold fluid delta temperature: 9.095333333333365 [°C]\n",
      "- Hot fluid delta temperature: -9.33788888888894 [°C]\n",
      "- Log-mean temperature difference (LMTD): 25.67641629916658 [°C]\n",
      "- Cold fluid transferred heat (thermal power): 5.700996970190151 [kW]\n",
      "- Hot fluid transferred heat (thermal power): -6.023372300191799 [kW]\n",
      "- Heat losses (thermal power): -0.3223753300016474 [kW]\n",
      "- Global heat transfer coefficient (global HTC): -2.1962233736173937 [kW/(m^2*K)]\n",
      "\n",
      "--> Countercurrent measure 1 measure calculations results:\n",
      "- Cold fluid mass flow rate: 0.1484311273183292 [kg/s]\n",
      "- Hot fluid mass flow rate: 0.15589328762773738 [kg/s]\n",
      "- Cold fluid inlet temperature: 15.413333333333329 [°C]\n",
      "- Hot fluid inlet temperature: 51.51888888888898 [°C]\n",
      "- Cold fluid outlet temperature: 24.821111111111083 [°C]\n",
      "- Hot fluid outlet temperature: 41.686666666666596 [°C]\n",
      "- Average cold fluid temperature: 20.117222222222207 [°C]\n",
      "- Average hot fluid temperature: 46.60277777777779 [°C]\n",
      "- Cold fluid delta temperature: 9.407777777777754 [°C]\n",
      "- Hot fluid delta temperature: -9.832222222222384 [°C]\n",
      "- Log-mean temperature difference (LMTD): 25.276765550007806 [°C]\n",
      "- Cold fluid transferred heat (thermal power): 5.8408079497386165 [kW]\n",
      "- Hot fluid transferred heat (thermal power): -6.407806384147749 [kW]\n",
      "- Heat losses (thermal power): -0.5669984344091326 [kW]\n",
      "- Global heat transfer coefficient (global HTC): -2.3733352564090313 [kW/(m^2*K)]\n",
      "\n",
      "--> Countercurrent measure 2 measure calculations results:\n",
      "- Cold fluid mass flow rate: 0.047238881518364424 [kg/s]\n",
      "- Hot fluid mass flow rate: 0.15750667615162212 [kg/s]\n",
      "- Cold fluid inlet temperature: 15.33355555555554 [°C]\n",
      "- Hot fluid inlet temperature: 51.29666666666669 [°C]\n",
      "- Cold fluid outlet temperature: 33.513222222222204 [°C]\n",
      "- Hot fluid outlet temperature: 45.01066666666657 [°C]\n",
      "- Average cold fluid temperature: 24.423388888888873 [°C]\n",
      "- Average hot fluid temperature: 48.15366666666663 [°C]\n",
      "- Cold fluid delta temperature: 18.179666666666662 [°C]\n",
      "- Hot fluid delta temperature: -6.286000000000115 [°C]\n",
      "- Log-mean temperature difference (LMTD): 21.45416799110848 [°C]\n",
      "- Cold fluid transferred heat (thermal power): 3.590001337624525 [kW]\n",
      "- Hot fluid transferred heat (thermal power): -4.139565406275072 [kW]\n",
      "- Heat losses (thermal power): -0.5495640686505476 [kW]\n",
      "- Global heat transfer coefficient (global HTC): -1.8064014878653825 [kW/(m^2*K)]\n",
      "\n",
      "--> Cocurrent measure 2 measure calculations results:\n",
      "- Cold fluid mass flow rate: 0.04607886236181829 [kg/s]\n",
      "- Hot fluid mass flow rate: 0.15875547452313438 [kg/s]\n",
      "- Cold fluid inlet temperature: 15.414222222222243 [°C]\n",
      "- Hot fluid inlet temperature: 51.46877777777776 [°C]\n",
      "- Cold fluid outlet temperature: 33.24355555555555 [°C]\n",
      "- Hot fluid outlet temperature: 45.49700000000002 [°C]\n",
      "- Average cold fluid temperature: 24.328888888888898 [°C]\n",
      "- Average hot fluid temperature: 48.482888888888894 [°C]\n",
      "- Cold fluid delta temperature: 17.82933333333331 [°C]\n",
      "- Hot fluid delta temperature: -5.9717777777777385 [°C]\n",
      "- Log-mean temperature difference (LMTD): 22.053868117246434 [°C]\n",
      "- Cold fluid transferred heat (thermal power): 3.4343948410650307 [kW]\n",
      "- Hot fluid transferred heat (thermal power): -3.9639220342493915 [kW]\n",
      "- Heat losses (thermal power): -0.5295271931843608 [kW]\n",
      "- Global heat transfer coefficient (global HTC): -1.6827187770355927 [kW/(m^2*K)]\n"
     ]
    }
   ],
   "source": [
    "ec.print_measures_calcs_res(measures, meas_calcs_dbg_flg)   # Function call to print measures calcs results"
   ]
  }
 ],
 "metadata": {
  "interpreter": {
   "hash": "916dbcbb3f70747c44a77c7bcd40155683ae19c65e1c03b4aa3499c5328201f1"
  },
  "kernelspec": {
   "display_name": "Python 3.8.10 64-bit",
   "language": "python",
   "name": "python3"
  },
  "language_info": {
   "codemirror_mode": {
    "name": "ipython",
    "version": 3
   },
   "file_extension": ".py",
   "mimetype": "text/x-python",
   "name": "python",
   "nbconvert_exporter": "python",
   "pygments_lexer": "ipython3",
   "version": "3.8.12"
  },
  "orig_nbformat": 4
 },
 "nbformat": 4,
 "nbformat_minor": 2
}
